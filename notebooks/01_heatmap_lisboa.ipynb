{
 "cells": [
  {
   "cell_type": "code",
   "execution_count": 1,
   "id": "537471d3",
   "metadata": {},
   "outputs": [
    {
     "ename": "ValueError",
     "evalue": "O arquivo precisa ter colunas 'latitude' e 'longitude' para o heatmap.",
     "output_type": "error",
     "traceback": [
      "\u001b[0;31m---------------------------------------------------------------------------\u001b[0m",
      "\u001b[0;31mValueError\u001b[0m                                Traceback (most recent call last)",
      "Cell \u001b[0;32mIn[1], line 16\u001b[0m\n\u001b[1;32m     14\u001b[0m \u001b[38;5;66;03m# Verifica se possui lat/lon\u001b[39;00m\n\u001b[1;32m     15\u001b[0m \u001b[38;5;28;01mif\u001b[39;00m \u001b[38;5;129;01mnot\u001b[39;00m \u001b[38;5;28mall\u001b[39m(col \u001b[38;5;129;01min\u001b[39;00m df\u001b[38;5;241m.\u001b[39mcolumns \u001b[38;5;28;01mfor\u001b[39;00m col \u001b[38;5;129;01min\u001b[39;00m [\u001b[38;5;124m'\u001b[39m\u001b[38;5;124mlatitude\u001b[39m\u001b[38;5;124m'\u001b[39m, \u001b[38;5;124m'\u001b[39m\u001b[38;5;124mlongitude\u001b[39m\u001b[38;5;124m'\u001b[39m]):\n\u001b[0;32m---> 16\u001b[0m     \u001b[38;5;28;01mraise\u001b[39;00m \u001b[38;5;167;01mValueError\u001b[39;00m(\u001b[38;5;124m\"\u001b[39m\u001b[38;5;124mO arquivo precisa ter colunas \u001b[39m\u001b[38;5;124m'\u001b[39m\u001b[38;5;124mlatitude\u001b[39m\u001b[38;5;124m'\u001b[39m\u001b[38;5;124m e \u001b[39m\u001b[38;5;124m'\u001b[39m\u001b[38;5;124mlongitude\u001b[39m\u001b[38;5;124m'\u001b[39m\u001b[38;5;124m para o heatmap.\u001b[39m\u001b[38;5;124m\"\u001b[39m)\n\u001b[1;32m     18\u001b[0m \u001b[38;5;66;03m# Mapa base centrado em Lisboa\u001b[39;00m\n\u001b[1;32m     19\u001b[0m m \u001b[38;5;241m=\u001b[39m folium\u001b[38;5;241m.\u001b[39mMap(location\u001b[38;5;241m=\u001b[39m[\u001b[38;5;241m38.7223\u001b[39m, \u001b[38;5;241m-\u001b[39m\u001b[38;5;241m9.1393\u001b[39m], zoom_start\u001b[38;5;241m=\u001b[39m\u001b[38;5;241m12\u001b[39m)\n",
      "\u001b[0;31mValueError\u001b[0m: O arquivo precisa ter colunas 'latitude' e 'longitude' para o heatmap."
     ]
    }
   ],
   "source": [
    "# Notebook: 01_heatmap_lisboa.ipynb\n",
    "\n",
    "import pandas as pd\n",
    "import folium\n",
    "from folium.plugins import HeatMap\n",
    "import os\n",
    "\n",
    "# Caminho para o CSV\n",
    "caminho_csv = \"../data/imoveis_lisboa_pronto.csv\"\n",
    "\n",
    "# Leitura\n",
    "df = pd.read_csv(caminho_csv)\n",
    "\n",
    "# Verifica se possui lat/lon\n",
    "if not all(col in df.columns for col in ['latitude', 'longitude']):\n",
    "    raise ValueError(\"O arquivo precisa ter colunas 'latitude' e 'longitude' para o heatmap.\")\n",
    "\n",
    "# Mapa base centrado em Lisboa\n",
    "m = folium.Map(location=[38.7223, -9.1393], zoom_start=12)\n",
    "\n",
    "# HeatMap (peso: area_m2 ou 1 se não existir)\n",
    "heat_data = [\n",
    "    [row['latitude'], row['longitude'], row.get('area_m2', 1)]\n",
    "    for _, row in df.iterrows()\n",
    "    if not pd.isnull(row['latitude']) and not pd.isnull(row['longitude'])\n",
    "]\n",
    "\n",
    "HeatMap(heat_data, radius=15, blur=10, min_opacity=0.4).add_to(m)\n",
    "\n",
    "# Marcadores simples (opcional)\n",
    "for _, row in df.iterrows():\n",
    "    if pd.notnull(row['latitude']) and pd.notnull(row['longitude']):\n",
    "        folium.CircleMarker(\n",
    "            location=(row['latitude'], row['longitude']),\n",
    "            radius=3,\n",
    "            fill=True,\n",
    "            fill_opacity=0.6\n",
    "        ).add_to(m)\n",
    "\n",
    "# Salvar HTML\n",
    "output_path = \"../reports/heatmap_lisboa.html\"\n",
    "m.save(output_path)\n",
    "print(f\"Mapa salvo em: {output_path}\")\n"
   ]
  },
  {
   "cell_type": "code",
   "execution_count": null,
   "id": "adc7a974",
   "metadata": {},
   "outputs": [],
   "source": []
  }
 ],
 "metadata": {
  "kernelspec": {
   "display_name": "Python 3",
   "language": "python",
   "name": "python3"
  },
  "language_info": {
   "codemirror_mode": {
    "name": "ipython",
    "version": 3
   },
   "file_extension": ".py",
   "mimetype": "text/x-python",
   "name": "python",
   "nbconvert_exporter": "python",
   "pygments_lexer": "ipython3",
   "version": "3.10.12"
  }
 },
 "nbformat": 4,
 "nbformat_minor": 5
}
